{
 "cells": [
  {
   "cell_type": "code",
   "execution_count": 2,
   "id": "298747cc-6b66-4e6a-bea6-3cc127da3a0a",
   "metadata": {},
   "outputs": [
    {
     "name": "stdout",
     "output_type": "stream",
     "text": [
      "train:201889<->1070628   valid:67923<->365167  test:29192<->118221\n"
     ]
    }
   ],
   "source": [
    "import torch\n",
    "x,y=torch.load('corn9train')\n",
    "x1,y1=torch.load('corn9valid')\n",
    "x2,y2=torch.load('corn9test')\n",
    "\n",
    "print(f'train:{len(y)-sum(y)}<->{sum(y)}   valid:{len(y1)-sum(y1)}<->{sum(y1)}  test:{len(y2)-sum(y2)}<->{sum(y2)}')"
   ]
  },
  {
   "cell_type": "code",
   "execution_count": 3,
   "id": "493b454e-40fa-45de-9a99-f60fccfc9a6b",
   "metadata": {},
   "outputs": [],
   "source": [
    "import torch\n",
    "import torchvision\n",
    "import os\n",
    "import sys\n",
    "Xtrain,ytrain=torch.load('corn9train')\n",
    "Xtest,ytest=torch.load('corn9valid')\n",
    "types={0:'road',1:'field'}"
   ]
  },
  {
   "cell_type": "code",
   "execution_count": 4,
   "id": "a9f323e7-72ec-4742-afdc-6ac9d071a314",
   "metadata": {},
   "outputs": [],
   "source": [
    "import matplotlib.pyplot as plt\n",
    "import numpy as np\n",
    "from PIL import Image\n",
    "#可视化图像\n",
    "\n",
    "\n",
    "#MLP-mixer\n",
    "import torch\n",
    "from torch import nn\n",
    "SIZE=5\n",
    "P=1\n",
    "CHANNELS=192\n",
    "PATCHES=int((SIZE/P)**2)\n",
    "#可调隐藏宽度DS DC\n",
    "DS=96\n",
    "DC=768\n",
    "\n",
    "class TokenMixer(nn.Module):\n",
    "    def __init__(self):\n",
    "        global PATCHES,DS,CHANNELS\n",
    "        super().__init__()\n",
    "        self.tokenblock=nn.Sequential(\n",
    "            nn.Linear(PATCHES,DS),\n",
    "            nn.BatchNorm1d(CHANNELS),\n",
    "            nn.GELU(),\n",
    "            nn.Dropout(),\n",
    "            nn.Linear(DS,PATCHES),\n",
    "            )\n",
    "            \n",
    "    def forward(self,x):\n",
    "        return self.tokenblock(x)\n",
    "    \n",
    "class ChannelMixer(nn.Module):\n",
    "    def __init__(self):\n",
    "        global CHANNELS,DC,PATCHES\n",
    "        super().__init__()\n",
    "        self.channelblock=nn.Sequential(\n",
    "            nn.Linear(CHANNELS,DC),\n",
    "            nn.BatchNorm1d(PATCHES),\n",
    "            nn.GELU(),\n",
    "            nn.Dropout(),\n",
    "            nn.Linear(DC,CHANNELS),\n",
    "            )\n",
    "        \n",
    "    def forward(self,x):\n",
    "        return self.channelblock(x)\n",
    "class MixerLayer(nn.Module):\n",
    "    def __init__(self):\n",
    "        super().__init__()\n",
    "        self.token_mixing=TokenMixer()\n",
    "        self.channel_mixing=ChannelMixer()\n",
    "        \n",
    "    def forward(self,x):#patches*channels\n",
    "        global CHANNELS\n",
    "        y=nn.LayerNorm(CHANNELS)(x)\n",
    "        y=torch.permute(y,(0,2,1))\n",
    "        y=self.token_mixing(y)\n",
    "        y=torch.permute(y,(0,2,1))\n",
    "        x=x+y\n",
    "        y=nn.LayerNorm(CHANNELS)(x)\n",
    "        y=self.channel_mixing(y)\n",
    "        return x+y\n",
    "from typing import OrderedDict\n",
    "class Mixer(nn.Module):\n",
    "    def __init__(self,num):\n",
    "        global CHANNELS,PATCHES,P\n",
    "        super().__init__()\n",
    "        self.patch_connect=nn.Conv2d(9, CHANNELS, P,stride=P)\n",
    "        blocks=OrderedDict()\n",
    "        for i in range(num):\n",
    "            blocks['MixerLayer '+str(i)]=MixerLayer()\n",
    "        self.mixerblocks=nn.Sequential(blocks)\n",
    "        self.full_connect=nn.Linear(PATCHES,2)\n",
    "        \n",
    "    def forward(self,x):\n",
    "        global CHANNELS,PATCHES\n",
    "        y=nn.BatchNorm2d(9)\n",
    "        y=self.patch_connect(x)\n",
    "        y=nn.Flatten(start_dim=2)(y)#channels*patches\n",
    "        y=torch.permute(y, (0,2,1))\n",
    "        y=self.mixerblocks(y)\n",
    "        y=nn.LayerNorm(CHANNELS)(y)\n",
    "        #全局最大池化\n",
    "        y=nn.MaxPool1d(CHANNELS)(y)\n",
    "        y=nn.Flatten()(y)\n",
    "        y=self.full_connect(y)\n",
    "        return y\n",
    "    "
   ]
  },
  {
   "cell_type": "code",
   "execution_count": 5,
   "id": "daa66f69-79db-4249-add6-de688297af32",
   "metadata": {},
   "outputs": [],
   "source": [
    "#数据预加载\n",
    "from torch.utils.data import Dataset,DataLoader\n",
    "from torchvision.transforms import Compose,ToTensor,Lambda,Normalize,Resize\n",
    "class Mydata(Dataset):\n",
    "    def __init__(self,X,y):\n",
    "        self.X=X\n",
    "        self.target_transform=Lambda(lambd=lambda y: torch.zeros(2, dtype=torch.float).scatter_(0, y.clone().detach(), value=1))\n",
    "        self.y=y\n",
    "    def __len__(self):\n",
    "        return len(self.y)\n",
    "    def __getitem__(self,idx):\n",
    "        data=torch.reshape(self.X[idx],(5,5,9))\n",
    "        data=torch.permute(data,(2,0,1))\n",
    "        label=self.target_transform(self.y[idx])\n",
    "        return data.float(),label.float()\n",
    "    "
   ]
  },
  {
   "cell_type": "code",
   "execution_count": 6,
   "id": "b82ec39c-a0d1-4e07-9331-4c989bbd97dd",
   "metadata": {},
   "outputs": [],
   "source": [
    "traindata=Mydata(Xtrain,ytrain)\n",
    "testdata=Mydata(Xtest,ytest)\n",
    "\n",
    "trainloader=DataLoader(traindata,batch_size=2048,shuffle=True)\n",
    "testloader=DataLoader(testdata,batch_size=2048,shuffle=False)"
   ]
  },
  {
   "cell_type": "code",
   "execution_count": 7,
   "id": "9d3c954b-1497-454b-8fce-b19d5d4b4027",
   "metadata": {},
   "outputs": [
    {
     "data": {
      "text/plain": [
       "<All keys matched successfully>"
      ]
     },
     "execution_count": 7,
     "metadata": {},
     "output_type": "execute_result"
    }
   ],
   "source": [
    "from torch.nn import CrossEntropyLoss,init\n",
    "from torch.optim import Adam,SGD,lr_scheduler\n",
    "from torch.nn.utils import clip_grad_norm_\n",
    "\n",
    "mixer=Mixer(12).to('cuda')\n",
    "\n",
    "# 自定义初始化\n",
    "for name,params in mixer.named_parameters():\n",
    "    init.normal_(params)\n",
    "mixer.load_state_dict(torch.load('../mixer_tractor_v1.params'))"
   ]
  },
  {
   "cell_type": "code",
   "execution_count": 12,
   "id": "4da31fc8-0136-453f-95c0-5f3359cffe7e",
   "metadata": {},
   "outputs": [],
   "source": [
    "#torch.save(mixer.state_dict(),'../mixer_corn_v1.params') "
   ]
  },
  {
   "cell_type": "markdown",
   "id": "11d51287-08dd-4325-9aa5-873b78646fb6",
   "metadata": {},
   "source": [
    "# Finetuning"
   ]
  },
  {
   "cell_type": "code",
   "execution_count": 8,
   "id": "fa9efcc4-ff27-4292-83d6-ad0726d6d1f6",
   "metadata": {},
   "outputs": [],
   "source": [
    "Xtest,ytest=torch.load('corn9valid')\n",
    "traindata=Mydata(Xtrain,ytrain)\n",
    "testdata=Mydata(Xtest,ytest)\n",
    "\n",
    "trainloader=DataLoader(traindata,batch_size=2048,shuffle=True)\n",
    "testloader=DataLoader(testdata,batch_size=2048,shuffle=False)"
   ]
  },
  {
   "cell_type": "code",
   "execution_count": null,
   "id": "43fea9b0-48bc-45d4-bf74-5cc7daf53dfd",
   "metadata": {},
   "outputs": [
    {
     "name": "stdout",
     "output_type": "stream",
     "text": [
      "\n",
      "epoch 1 start\n",
      ">>>>>>>>>>>>>>>>>>>>>>>>>>>>>>>>>>>>>>>>>>>>>>>>>>>>>>>>>>>>>>>>>>>>>>>>>>>>>>>>>>>>>>>>>>>>>>>>>>>>>>>>>>>>>>>>>>>>>>>>>>>>>>>>>>>>>>>>>>>>>>>>>>>>>>>>>>>>>>>>>>>>>>>>>>>>>>>>>>>>>>>>>>>>>>>>>>>>>>>>>>>>>>>>>>>>>>>>>>>>>>>>>>>>>>>>>>>>>>>>>>>>>>>>>>>>>>>>>>>>>>>>>>>>>>>>>>>>>>>>>>>>>>>>>>>>>>>>>>>>>>>>>>>>>>>>>>>>>>>>>>>>>>>>>>>>>>>>>>>>>>>>>>>>>>>>>>>>>>>>>>>>>>>>>>>>>>>>>>>>>>>>>>>>>>>>>>>>>>>>>>>>>>>>>>>>>>>>>>>>>>>>>>>>>>>>>>>>>>>>>>>>>>>>>>>>>>>>>>>>>>>>>>>>>>>>>>>>>>>>>>>>>>>>>>>>>>>>>>>>>>>>>>>>>>>>>>>>>>>>>>>>>>>>>>>>>>>>>>>>>>>>>>>>>>>>>>>>>>>>>>>>>>>>>>>>>>>>>>>>>>>>>>>>>>>>>>>>>>>>>>>>>>>>>>>>>>>>>>>>>>"
     ]
    },
    {
     "data": {
      "image/png": "[encoded data removed]",
      "text/plain": [
       "<Figure size 640x480 with 1 Axes>"
      ]
     },
     "metadata": {},
     "output_type": "display_data"
    },
    {
     "name": "stdout",
     "output_type": "stream",
     "text": [
      "\n",
      "train loss:0.5058497442501534\n",
      ">>>>>>>>>>>>>>>>>>>>>>>>>>>>>>>>>>>>>>>>>>>>>>>>>>>>>>>>>>>>>>>>>>>>>>>>>>>>>>>>>>>>>>>>>>>>>>>>>>>>>>>>>>>>>>>>>>>>>>>>>>>>>>>>>>>>>>>>>>>>>>>>>>>>>>>>>>>>>>>>>>>>>>>>>>>>>>>>>>>>>>>>>>>>>>>>>>>>>>>>>>>>>>>>>>>>\n",
      "test accuracy:0.8386386201482371\n",
      "\n",
      "epoch 2 start\n",
      ">>>>>>>>>>>>>>>>>>>>>>>>>>>>>>>>>>>>>>>>>>>>>>>>>>>>>>>>>>>>>>>>>>>>>>>>>>>>>>>>>>>>>>>>>>>>>>>>>>>>>>>>>>>>>>>>>>>>>>>>>>>>>>>>>>>>>>>>>>>>>>>>>>>>>>>>>>>>>>>>>>>>>>>>>>>>>>>>>>>>>>>>>>>>>>>>>>>>>>>>>>>>>>>>>>>>>>>>>>>>>>>>>>>>>>>>>>>>>>>>>>>>>>>>>>>>>>>>>>>>>>>>>>>>>>>>>>>>>>>>>>>>>>>>>>>>>>>>>>>>>>>>>>>>>>>>>>>>>>>>>>>>>>>>>>>>>>>>>>>>>>>>>>>>>>>>>>>>>>>>>>>>>>>>>>>>>>>>>>>>>>>>>>>>>>>>>>>>>>>>>>>>>>>>>>>>>>>>>>>>>>>>>>>>>>>>>>>>>>>>>>>>>>>>>>>>>>"
     ]
    }
   ],
   "source": [
    "loss_fn=CrossEntropyLoss()#Softmax included\n",
    "optimizer=SGD(mixer.parameters(),lr=0.01)\n",
    "epoches=20\n",
    "scheduler=lr_scheduler.LinearLR(optimizer,start_factor=1,end_factor=0.05,total_iters=epoches*len(trainloader))\n",
    "losslist=[]\n",
    "for i in range(epoches):\n",
    "    print(f'\\nepoch {i+1} start')\n",
    "    avgloss=0\n",
    "    mixer.train()\n",
    "    for idx,(X,y) in enumerate(trainloader):\n",
    "        with torch.device('cuda'):\n",
    "            torch.cuda.empty_cache()\n",
    "            pred=mixer(X.to('cuda'))\n",
    "            loss=loss_fn(pred,y.to('cuda'))\n",
    "            loss.backward()\n",
    "            biasmaxlist=[]\n",
    "            weightmaxlist=[]\n",
    "            for name,params in mixer.named_parameters():\n",
    "                if 'bias' in name:\n",
    "                    biasmaxlist.append(params.grad.max().item())\n",
    "                else:\n",
    "                    weightmaxlist.append(params.grad.max().item())\n",
    "            clip_grad_norm_(mixer.parameters(), max_norm=1,norm_type=1)#gradient-clipping  if ratio>1,then scale return total_norm\n",
    "            optimizer.step()\n",
    "            scheduler.step()\n",
    "            optimizer.zero_grad()\n",
    "            avgloss+=loss.item()\n",
    "            print(end='>')\n",
    "            plt.plot(weightmaxlist)\n",
    "    plt.show()\n",
    "    avgloss=avgloss/(idx+1)\n",
    "    print(f'\\ntrain loss:{avgloss}')\n",
    "    losslist.append(avgloss)\n",
    "    \n",
    "    \n",
    "    torch.cuda.empty_cache()\n",
    "    mixer.eval()\n",
    "    acc=0\n",
    "    acclist1=[]\n",
    "    avgloss1=0\n",
    "    loss_fn=CrossEntropyLoss()#Softmax included\n",
    "    # y_pred=[]\n",
    "    # y_true=ytest\n",
    "    with torch.no_grad():   \n",
    "        for idx,(X,y) in enumerate(testloader):\n",
    "            with torch.device('cuda'):\n",
    "                pred=mixer(X.to('cuda'))\n",
    "                avgloss1+=loss_fn(pred,y.to('cuda')).item()\n",
    "                acc+=sum(pred.argmax(dim=1)==y.to('cuda').argmax(dim=1)).item()\n",
    "            # y_pred+=pred.argmax(dim=1).tolist()\n",
    "            print(end='>')\n",
    "        acc/=len(testloader.dataset)\n",
    "        acclist1.append(acc)\n",
    "        print(f'\\ntest accuracy:{acc}')\n",
    "    \n",
    "# torch.save(mixer.state_dict(),'../MixerReplication/mixer.params') "
   ]
  },
  {
   "cell_type": "markdown",
   "id": "f98fc965-916b-4209-a385-f1b3db09b3d5",
   "metadata": {},
   "source": [
    "# Result"
   ]
  },
  {
   "cell_type": "code",
   "execution_count": 7,
   "id": "ea359640-8097-4cfc-8a90-20567e1452f1",
   "metadata": {},
   "outputs": [
    {
     "name": "stdout",
     "output_type": "stream",
     "text": [
      ">>>>>>>>>>>>>>>>>>>>>>>>>>>>>>>>>>>>>>>>>>>>>>>>>>>>>>>>>>>>>>>>>>>>>>>>\n",
      "test accuracy:0.6408593543310291\n"
     ]
    }
   ],
   "source": [
    "Xtest,ytest=torch.load('corn9test')\n",
    "testdata=Mydata(Xtest,ytest)\n",
    "testloader=DataLoader(testdata,batch_size=2048,shuffle=False)\n",
    "torch.cuda.empty_cache()\n",
    "mixer.eval()\n",
    "acc=0\n",
    "acclist1=[]\n",
    "avgloss1=0\n",
    "loss_fn=CrossEntropyLoss()#Softmax included\n",
    "y_pred=[]\n",
    "y_true=ytest\n",
    "with torch.no_grad():   \n",
    "    for idx,(X,y) in enumerate(testloader):\n",
    "        with torch.device('cuda'):\n",
    "            pred=mixer(X.to('cuda'))\n",
    "            avgloss1+=loss_fn(pred,y.to('cuda')).item()\n",
    "            acc+=sum(pred.argmax(dim=1)==y.to('cuda').argmax(dim=1)).item()\n",
    "        y_pred+=pred.argmax(dim=1).tolist()\n",
    "        print(end='>')\n",
    "    acc/=len(testloader.dataset)\n",
    "    acclist1.append(acc)\n",
    "    print(f'\\ntest accuracy:{acc}')"
   ]
  },
  {
   "cell_type": "code",
   "execution_count": 8,
   "id": "29f0f0bb-081a-4afe-bae7-1e19b58dce0c",
   "metadata": {},
   "outputs": [
    {
     "name": "stdout",
     "output_type": "stream",
     "text": [
      "              precision    recall  f1-score   support\n",
      "\n",
      "           0       0.28      0.53      0.37     29192\n",
      "           1       0.85      0.67      0.75    118221\n",
      "\n",
      "    accuracy                           0.64    147413\n",
      "   macro avg       0.57      0.60      0.56    147413\n",
      "weighted avg       0.74      0.64      0.67    147413\n",
      "\n"
     ]
    }
   ],
   "source": [
    "import sklearn\n",
    "from sklearn.metrics import classification_report\n",
    "print(classification_report(y_true,y_pred))"
   ]
  },
  {
   "cell_type": "code",
   "execution_count": 11,
   "id": "6f99cc84-2413-4708-b157-74da309261f2",
   "metadata": {},
   "outputs": [
    {
     "name": "stdout",
     "output_type": "stream",
     "text": [
      "[[ 13824  15368]\n",
      " [  1365 116856]]\n"
     ]
    }
   ],
   "source": [
    "from sklearn.metrics import confusion_matrix\n",
    "print(confusion_matrix(y_true,y_pred))"
   ]
  },
  {
   "cell_type": "code",
   "execution_count": null,
   "id": "a826fd81-59bd-4a4d-a951-cbc88ae44c68",
   "metadata": {},
   "outputs": [],
   "source": [
    "import sklearn\n",
    "from sklearn.metrics import classification_report\n",
    "print(classification_report(y_true,y_pred))\n",
    "from sklearn.metrics import confusion_matrix\n",
    "print(confusion_matrix(y_true,y_pred))"
   ]
  }
 ],
 "metadata": {
  "kernelspec": {
   "display_name": "Python 3 (ipykernel)",
   "language": "python",
   "name": "python3"
  },
  "language_info": {
   "codemirror_mode": {
    "name": "ipython",
    "version": 3
   },
   "file_extension": ".py",
   "mimetype": "text/x-python",
   "name": "python",
   "nbconvert_exporter": "python",
   "pygments_lexer": "ipython3",
   "version": "3.10.12"
  }
 },
 "nbformat": 4,
 "nbformat_minor": 5
}
